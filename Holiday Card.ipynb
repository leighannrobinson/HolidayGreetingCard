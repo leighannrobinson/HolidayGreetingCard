{
 "cells": [
  {
   "cell_type": "code",
   "execution_count": 16,
   "id": "c4b687a3",
   "metadata": {},
   "outputs": [
    {
     "name": "stdout",
     "output_type": "stream",
     "text": [
      "Press 'p' to pause, 'r' to resume, 'e' for exit\n",
      " e\n"
     ]
    }
   ],
   "source": [
    "import pygame\n",
    "pygame.init()\n",
    "from pygame import mixer\n",
    "mixer.init()\n",
    "\n",
    "surface=pygame.display.set_mode((500,400))\n",
    "\n",
    "pygame.display.set_caption(\"Holiday Card\")\n",
    "\n",
    "WHITE=(255,255,255)\n",
    "BLACK=(0,0,0)\n",
    "RED=(255,0,0)\n",
    "GREEN=(0,255,0)\n",
    "BLUE=(0,0,255)\n",
    "\n",
    "font=pygame.font.Font('freesansbold.ttf', 30)\n",
    "text=font.render(\"Have a Happy Holidays!\", True, RED, GREEN)\n",
    "textRect=text.get_rect()\n",
    "X=400\n",
    "Y=700\n",
    "textRect.center= (X//2, Y//2)\n",
    "\n",
    "img=pygame.image.load(\"snowy.jpg\").convert()\n",
    "resized_image=pygame.transform.scale(img, (500,500))\n",
    "x=0\n",
    "y=0\n",
    "surface.blit(resized_image, (x,y))\n",
    "pygame.display.flip()\n",
    "\n",
    "active=True\n",
    "while active:\n",
    "    surface.blit(text, textRect)\n",
    "    for event in pygame.event.get():\n",
    "        if event.type==pygame.QUIT:\n",
    "            active= False\n",
    "        pygame.display.update()\n",
    "\n",
    "mixer.music.load(\"ChristmasMusic.mp3\")\n",
    "\n",
    "mixer.music.set_volume(0.7)\n",
    "\n",
    "mixer.music.play()\n",
    "\n",
    "while True:\n",
    "    print(\"Press 'p' to pause, 'r' to resume, 'e' for exit\")\n",
    "    query=input(\" \")\n",
    "    \n",
    "    if query=='p':\n",
    "        mixer.music.pause()\n",
    "    elif query=='r':\n",
    "        mixer.music.unpause()\n",
    "    elif query=='e':\n",
    "        mixer.music.stop()\n",
    "        break \n",
    "        \n",
    "pygame.quit()"
   ]
  },
  {
   "cell_type": "code",
   "execution_count": null,
   "id": "2767e30f",
   "metadata": {},
   "outputs": [],
   "source": []
  },
  {
   "cell_type": "code",
   "execution_count": null,
   "id": "6f20685b",
   "metadata": {},
   "outputs": [],
   "source": []
  },
  {
   "cell_type": "code",
   "execution_count": null,
   "id": "de76735c",
   "metadata": {},
   "outputs": [],
   "source": []
  }
 ],
 "metadata": {
  "kernelspec": {
   "display_name": "Python 3 (ipykernel)",
   "language": "python",
   "name": "python3"
  },
  "language_info": {
   "codemirror_mode": {
    "name": "ipython",
    "version": 3
   },
   "file_extension": ".py",
   "mimetype": "text/x-python",
   "name": "python",
   "nbconvert_exporter": "python",
   "pygments_lexer": "ipython3",
   "version": "3.9.12"
  }
 },
 "nbformat": 4,
 "nbformat_minor": 5
}
